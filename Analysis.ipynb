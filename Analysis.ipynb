{
 "cells": [
  {
   "cell_type": "code",
   "execution_count": 1,
   "metadata": {},
   "outputs": [
    {
     "name": "stdout",
     "output_type": "stream",
     "text": [
      "cuda\n"
     ]
    }
   ],
   "source": [
    "## Experiment Option\n",
    "from easydict import EasyDict\n",
    "import torch\n",
    "\n",
    "opt = EasyDict()\n",
    "opt.dataset_series = 'company' \n",
    "opt.dataset_domain = ''\n",
    "opt.subtask = 'sub1' # sub1: sentence, sub2: document(full review)\n",
    "opt.task = 'category' # category, term\n",
    "opt.num_classes = 3 # negative, positive, neutral, (+ conflict)\n",
    "opt.max_length = 200\n",
    "opt.model_name = 'kobert'\n",
    "opt.pos = False\n",
    "opt.lastid = False\n",
    "opt.top_k = 1\n",
    "opt.valset_ratio = 0.2\n",
    "opt.batch_size = 16\n",
    "opt.num_layers = 6\n",
    "opt.num_epochs = 12\n",
    "opt.runs = 5\n",
    "opt.seed = 42\n",
    "opt.log_step = 100\n",
    "opt.patience = 5\n",
    "opt.device = torch.device('cuda' if torch.cuda.is_available else 'cpu')\n",
    "\n",
    "print(opt.device)"
   ]
  },
  {
   "cell_type": "code",
   "execution_count": 2,
   "metadata": {},
   "outputs": [
    {
     "name": "stdout",
     "output_type": "stream",
     "text": [
      "length of train set: 2,000\n",
      "length of test set: 500\n"
     ]
    }
   ],
   "source": [
    "if opt.dataset_series == 'company':\n",
    "    path = 'dataset/{}_train.csv'.format(opt.dataset_series)\n",
    "    path_test = 'dataset/{}_test.csv'.format(opt.dataset_series)\n",
    "    \n",
    "import pandas as pd\n",
    "\n",
    "df_train = pd.read_csv(path)\n",
    "df_test = pd.read_csv(path_test)\n",
    "\n",
    "print('length of train set: {:,}'.format(len(df_train)))\n",
    "print('length of test set: {:,}'.format(len(df_test)))"
   ]
  },
  {
   "cell_type": "code",
   "execution_count": null,
   "metadata": {},
   "outputs": [],
   "source": [
    "from data_utils import clean_sentence, preprocess\n",
    "df_train = clean_sentence(df=df_train, clean_func=preprocess)\n",
    "df_test = clean_sentence(df=df_test, clean_func=preprocess)"
   ]
  },
  {
   "cell_type": "markdown",
   "metadata": {},
   "source": [
    "## Test analysis\n",
    "1. Load model\n",
    "2. Get samples from test set and tokenize\n",
    "3. Predict\n",
    "4. Decode high attention words\n",
    "5. Result DataFrame"
   ]
  },
  {
   "cell_type": "markdown",
   "metadata": {},
   "source": [
    "#### Load Model"
   ]
  },
  {
   "cell_type": "code",
   "execution_count": 4,
   "metadata": {},
   "outputs": [
    {
     "data": {
      "text/plain": [
       "'kobert'"
      ]
     },
     "execution_count": 4,
     "metadata": {},
     "output_type": "execute_result"
    }
   ],
   "source": [
    "opt.model_name"
   ]
  },
  {
   "cell_type": "code",
   "execution_count": 5,
   "metadata": {},
   "outputs": [],
   "source": [
    "from models.kobert import *\n",
    "\n",
    "if opt.model_name == 'kobert':\n",
    "    model = KoBERT(opt=opt, embed_dim=768, fc_hid_dim=128, top_k=opt.top_k, att_head='all', att_pooling='mean')"
   ]
  },
  {
   "cell_type": "code",
   "execution_count": 6,
   "metadata": {},
   "outputs": [
    {
     "data": {
      "text/plain": [
       "<All keys matched successfully>"
      ]
     },
     "execution_count": 6,
     "metadata": {},
     "output_type": "execute_result"
    }
   ],
   "source": [
    "model.load_state_dict(torch.load('state_dict/BEST_kobert_company_preprocess5_val_acc_94.0%'))"
   ]
  },
  {
   "cell_type": "markdown",
   "metadata": {},
   "source": [
    "#### Get samples from test set and tokenize"
   ]
  },
  {
   "cell_type": "code",
   "execution_count": 7,
   "metadata": {},
   "outputs": [
    {
     "name": "stdout",
     "output_type": "stream",
     "text": [
      "[7, 8, 22, 24, 30, 31, 32, 33, 34, 35, 36, 37, 110, 111, 112, 113, 114, 115, 116, 117]\n"
     ]
    }
   ],
   "source": [
    "sample_idx = [7,8, 22,24] + list(range(30,38)) + list(range(110, 118))\n",
    "print(sample_idx)"
   ]
  },
  {
   "cell_type": "code",
   "execution_count": 8,
   "metadata": {},
   "outputs": [
    {
     "data": {
      "text/html": [
       "<div>\n",
       "<style scoped>\n",
       "    .dataframe tbody tr th:only-of-type {\n",
       "        vertical-align: middle;\n",
       "    }\n",
       "\n",
       "    .dataframe tbody tr th {\n",
       "        vertical-align: top;\n",
       "    }\n",
       "\n",
       "    .dataframe thead th {\n",
       "        text-align: right;\n",
       "    }\n",
       "</style>\n",
       "<table border=\"1\" class=\"dataframe\">\n",
       "  <thead>\n",
       "    <tr style=\"text-align: right;\">\n",
       "      <th></th>\n",
       "      <th>sentence</th>\n",
       "      <th>term</th>\n",
       "      <th>category</th>\n",
       "      <th>polarity</th>\n",
       "    </tr>\n",
       "  </thead>\n",
       "  <tbody>\n",
       "    <tr>\n",
       "      <th>0</th>\n",
       "      <td>팀바팀이겠지만 기본적인 업무량이 많아 야근 필수</td>\n",
       "      <td>업무량</td>\n",
       "      <td>업무</td>\n",
       "      <td>negative</td>\n",
       "    </tr>\n",
       "    <tr>\n",
       "      <th>1</th>\n",
       "      <td>배울만한 동료가 많이 있었으나 최근 다수 이탈하긴함 처우가 괜찮은 편이며 조직에 따...</td>\n",
       "      <td>문화</td>\n",
       "      <td>사내문화</td>\n",
       "      <td>positive</td>\n",
       "    </tr>\n",
       "    <tr>\n",
       "      <th>2</th>\n",
       "      <td>제조사보다 더한 탑다운 문화  엄청 쪼아대는데 모두가 따라가는 분위기 그렇지 않으면 아웃</td>\n",
       "      <td>분위기</td>\n",
       "      <td>사내문화</td>\n",
       "      <td>negative</td>\n",
       "    </tr>\n",
       "    <tr>\n",
       "      <th>3</th>\n",
       "      <td>초봉이 높기 때문에 주니어 연봉이 타 회사대비 높음</td>\n",
       "      <td>연봉</td>\n",
       "      <td>급여</td>\n",
       "      <td>positive</td>\n",
       "    </tr>\n",
       "    <tr>\n",
       "      <th>4</th>\n",
       "      <td>성과 중심의 분위기로 인한 개인주의가 만연하여 일하는 것이 즐겁지 않습니다</td>\n",
       "      <td>분위기</td>\n",
       "      <td>사내문화</td>\n",
       "      <td>negative</td>\n",
       "    </tr>\n",
       "    <tr>\n",
       "      <th>5</th>\n",
       "      <td>워라밸 기대하기 힘듬</td>\n",
       "      <td>워라밸</td>\n",
       "      <td>업무</td>\n",
       "      <td>negative</td>\n",
       "    </tr>\n",
       "    <tr>\n",
       "      <th>6</th>\n",
       "      <td>일 많고 새로운 도전도 많아서 이 회사 다니면서 편할 생각은 하지 않는게 좋음</td>\n",
       "      <td>일</td>\n",
       "      <td>업무</td>\n",
       "      <td>negative</td>\n",
       "    </tr>\n",
       "    <tr>\n",
       "      <th>7</th>\n",
       "      <td>자유로운 회사 분위기 사내식당 똑똑한 동료들과의 협업</td>\n",
       "      <td>분위기</td>\n",
       "      <td>사내문화</td>\n",
       "      <td>positive</td>\n",
       "    </tr>\n",
       "    <tr>\n",
       "      <th>8</th>\n",
       "      <td>업무를 잘하기위해서 자기개발이 많이 요구되어 워라밸 보장이 어렵다</td>\n",
       "      <td>워라밸</td>\n",
       "      <td>업무</td>\n",
       "      <td>negative</td>\n",
       "    </tr>\n",
       "    <tr>\n",
       "      <th>9</th>\n",
       "      <td>개발자 대우가 좋다 쓸데 없는 프로세스에 시간을 쏟지 않게함</td>\n",
       "      <td>프로세스</td>\n",
       "      <td>업무</td>\n",
       "      <td>positive</td>\n",
       "    </tr>\n",
       "    <tr>\n",
       "      <th>10</th>\n",
       "      <td>복지는 나쁘지 않음 좀 편한 분위기인 듯 하고 쥬니어면 있을만 함</td>\n",
       "      <td>복지</td>\n",
       "      <td>복지</td>\n",
       "      <td>positive</td>\n",
       "    </tr>\n",
       "    <tr>\n",
       "      <th>11</th>\n",
       "      <td>복지는 나쁘지 않음 좀 편한 분위기인 듯 하고 쥬니어면 있을만 함</td>\n",
       "      <td>분위기</td>\n",
       "      <td>사내문화</td>\n",
       "      <td>positive</td>\n",
       "    </tr>\n",
       "    <tr>\n",
       "      <th>12</th>\n",
       "      <td>휴가나 오프사용 눈치 안보고 재택도 자유로운편</td>\n",
       "      <td>눈치</td>\n",
       "      <td>사내문화</td>\n",
       "      <td>positive</td>\n",
       "    </tr>\n",
       "    <tr>\n",
       "      <th>13</th>\n",
       "      <td>비개발은 개발이랑 급여나 성과 차이가 커서 불만족스러움</td>\n",
       "      <td>급여</td>\n",
       "      <td>급여</td>\n",
       "      <td>negative</td>\n",
       "    </tr>\n",
       "    <tr>\n",
       "      <th>14</th>\n",
       "      <td>밝고 진취적인 분위기 서로 챙겨주면서도 일에 대한 퀄리티 양보 안할 수 있음</td>\n",
       "      <td>분위기</td>\n",
       "      <td>사내문화</td>\n",
       "      <td>positive</td>\n",
       "    </tr>\n",
       "    <tr>\n",
       "      <th>15</th>\n",
       "      <td>자기하기 나름인 회사 눈치 안보고 이것저것 해볼수있다</td>\n",
       "      <td>눈치</td>\n",
       "      <td>사내문화</td>\n",
       "      <td>positive</td>\n",
       "    </tr>\n",
       "    <tr>\n",
       "      <th>16</th>\n",
       "      <td>지극히 개인주의 분위기</td>\n",
       "      <td>분위기</td>\n",
       "      <td>사내문화</td>\n",
       "      <td>negative</td>\n",
       "    </tr>\n",
       "    <tr>\n",
       "      <th>17</th>\n",
       "      <td>솔직히 힘든거 없었음 거의 야근도 없고 일정도 개발에서 산정하면 대충 인정해 줌</td>\n",
       "      <td>야근</td>\n",
       "      <td>업무</td>\n",
       "      <td>negative</td>\n",
       "    </tr>\n",
       "    <tr>\n",
       "      <th>18</th>\n",
       "      <td>냉장고에 음료수 많습니다 커피값 저렴해요</td>\n",
       "      <td>커피</td>\n",
       "      <td>복지</td>\n",
       "      <td>positive</td>\n",
       "    </tr>\n",
       "    <tr>\n",
       "      <th>19</th>\n",
       "      <td>경영진의 무능과 그들만의 세상</td>\n",
       "      <td>경영진</td>\n",
       "      <td>사내문화</td>\n",
       "      <td>negative</td>\n",
       "    </tr>\n",
       "  </tbody>\n",
       "</table>\n",
       "</div>"
      ],
      "text/plain": [
       "                                             sentence  term category  polarity\n",
       "0                          팀바팀이겠지만 기본적인 업무량이 많아 야근 필수   업무량       업무  negative\n",
       "1   배울만한 동료가 많이 있었으나 최근 다수 이탈하긴함 처우가 괜찮은 편이며 조직에 따...    문화     사내문화  positive\n",
       "2   제조사보다 더한 탑다운 문화  엄청 쪼아대는데 모두가 따라가는 분위기 그렇지 않으면 아웃   분위기     사내문화  negative\n",
       "3                        초봉이 높기 때문에 주니어 연봉이 타 회사대비 높음    연봉       급여  positive\n",
       "4           성과 중심의 분위기로 인한 개인주의가 만연하여 일하는 것이 즐겁지 않습니다   분위기     사내문화  negative\n",
       "5                                         워라밸 기대하기 힘듬   워라밸       업무  negative\n",
       "6         일 많고 새로운 도전도 많아서 이 회사 다니면서 편할 생각은 하지 않는게 좋음     일       업무  negative\n",
       "7                       자유로운 회사 분위기 사내식당 똑똑한 동료들과의 협업   분위기     사내문화  positive\n",
       "8                업무를 잘하기위해서 자기개발이 많이 요구되어 워라밸 보장이 어렵다   워라밸       업무  negative\n",
       "9                   개발자 대우가 좋다 쓸데 없는 프로세스에 시간을 쏟지 않게함  프로세스       업무  positive\n",
       "10               복지는 나쁘지 않음 좀 편한 분위기인 듯 하고 쥬니어면 있을만 함    복지       복지  positive\n",
       "11               복지는 나쁘지 않음 좀 편한 분위기인 듯 하고 쥬니어면 있을만 함   분위기     사내문화  positive\n",
       "12                          휴가나 오프사용 눈치 안보고 재택도 자유로운편    눈치     사내문화  positive\n",
       "13                     비개발은 개발이랑 급여나 성과 차이가 커서 불만족스러움    급여       급여  negative\n",
       "14         밝고 진취적인 분위기 서로 챙겨주면서도 일에 대한 퀄리티 양보 안할 수 있음   분위기     사내문화  positive\n",
       "15                      자기하기 나름인 회사 눈치 안보고 이것저것 해볼수있다    눈치     사내문화  positive\n",
       "16                                       지극히 개인주의 분위기   분위기     사내문화  negative\n",
       "17       솔직히 힘든거 없었음 거의 야근도 없고 일정도 개발에서 산정하면 대충 인정해 줌    야근       업무  negative\n",
       "18                             냉장고에 음료수 많습니다 커피값 저렴해요    커피       복지  positive\n",
       "19                                   경영진의 무능과 그들만의 세상   경영진     사내문화  negative"
      ]
     },
     "execution_count": 8,
     "metadata": {},
     "output_type": "execute_result"
    }
   ],
   "source": [
    "df_samples = df_test.iloc[sample_idx].reset_index(drop=True)\n",
    "df_samples"
   ]
  },
  {
   "cell_type": "code",
   "execution_count": 9,
   "metadata": {},
   "outputs": [
    {
     "name": "stderr",
     "output_type": "stream",
     "text": [
      "The tokenizer class you load from this checkpoint is not the same type as the class this function is called from. It may result in unexpected tokenization. \n",
      "The tokenizer class you load from this checkpoint is 'BertTokenizer'. \n",
      "The class this function is called from is 'KoBertTokenizer'.\n"
     ]
    },
    {
     "name": "stdout",
     "output_type": "stream",
     "text": [
      "category: True\n",
      "20 samples in this dataset\n",
      "20\n"
     ]
    }
   ],
   "source": [
    "from data_utils import Category_Classification_Dataset as Dataset\n",
    "from kobert_tokenizer import KoBertTokenizer\n",
    "\n",
    "tokenizer = KoBertTokenizer.from_pretrained('monologg/kobert')\n",
    "\n",
    "samples = Dataset(df=df_samples, tokenizer=tokenizer, opt=opt, pos_encoding=False)\n",
    "\n",
    "from torch.utils.data import DataLoader\n",
    "sample_loader = DataLoader(dataset=samples, batch_size=30, shuffle=False)\n",
    "iter_sample = iter(sample_loader).next()\n",
    "print(len(iter_sample['input_ids']))"
   ]
  },
  {
   "cell_type": "markdown",
   "metadata": {},
   "source": [
    "#### Predict"
   ]
  },
  {
   "cell_type": "code",
   "execution_count": 10,
   "metadata": {},
   "outputs": [],
   "source": [
    "output, top_k_idx = model(iter_sample['input_ids'].squeeze(1), iter_sample['attention_masks'].squeeze(1),\n",
    "                         iter_sample['token_type_ids'].squeeze(1))\n",
    "predicted = torch.argmax(output, axis=1)\n",
    "labels = iter_sample['labels']\n",
    "\n",
    "correct = (predicted == labels).tolist()\n",
    "labels = labels.tolist()\n",
    "predicted = predicted.tolist()"
   ]
  },
  {
   "cell_type": "markdown",
   "metadata": {},
   "source": [
    "#### Decode high attention words"
   ]
  },
  {
   "cell_type": "code",
   "execution_count": 11,
   "metadata": {},
   "outputs": [],
   "source": [
    "high_tokens = list()\n",
    "for tokens, idx in zip(iter_sample['input_ids'].squeeze(1), top_k_idx):\n",
    "    high_tokens.append(tokens.squeeze(0)[idx])\n",
    "\n",
    "words = [tokenizer.decode(tokens) for tokens in high_tokens]"
   ]
  },
  {
   "cell_type": "markdown",
   "metadata": {},
   "source": [
    "#### Result DataFrame"
   ]
  },
  {
   "cell_type": "code",
   "execution_count": 12,
   "metadata": {},
   "outputs": [
    {
     "data": {
      "text/html": [
       "<div>\n",
       "<style scoped>\n",
       "    .dataframe tbody tr th:only-of-type {\n",
       "        vertical-align: middle;\n",
       "    }\n",
       "\n",
       "    .dataframe tbody tr th {\n",
       "        vertical-align: top;\n",
       "    }\n",
       "\n",
       "    .dataframe thead th {\n",
       "        text-align: right;\n",
       "    }\n",
       "</style>\n",
       "<table border=\"1\" class=\"dataframe\">\n",
       "  <thead>\n",
       "    <tr style=\"text-align: right;\">\n",
       "      <th></th>\n",
       "      <th>sentence</th>\n",
       "      <th>aspect</th>\n",
       "      <th>high_atts</th>\n",
       "      <th>truth</th>\n",
       "      <th>predict</th>\n",
       "      <th>correct</th>\n",
       "    </tr>\n",
       "  </thead>\n",
       "  <tbody>\n",
       "    <tr>\n",
       "      <th>0</th>\n",
       "      <td>팀바팀이겠지만 기본적인 업무량이 많아 야근 필수</td>\n",
       "      <td>업무</td>\n",
       "      <td>많아</td>\n",
       "      <td>negative</td>\n",
       "      <td>negative</td>\n",
       "      <td>True</td>\n",
       "    </tr>\n",
       "    <tr>\n",
       "      <th>1</th>\n",
       "      <td>배울만한 동료가 많이 있었으나 최근 다수 이탈하긴함 처우가 괜찮은 편이며 조직에 따...</td>\n",
       "      <td>사내문화</td>\n",
       "      <td>문화</td>\n",
       "      <td>positive</td>\n",
       "      <td>positive</td>\n",
       "      <td>True</td>\n",
       "    </tr>\n",
       "    <tr>\n",
       "      <th>2</th>\n",
       "      <td>제조사보다 더한 탑다운 문화  엄청 쪼아대는데 모두가 따라가는 분위기 그렇지 않으면 아웃</td>\n",
       "      <td>사내문화</td>\n",
       "      <td>모두</td>\n",
       "      <td>negative</td>\n",
       "      <td>negative</td>\n",
       "      <td>True</td>\n",
       "    </tr>\n",
       "    <tr>\n",
       "      <th>3</th>\n",
       "      <td>초봉이 높기 때문에 주니어 연봉이 타 회사대비 높음</td>\n",
       "      <td>급여</td>\n",
       "      <td>높</td>\n",
       "      <td>positive</td>\n",
       "      <td>positive</td>\n",
       "      <td>True</td>\n",
       "    </tr>\n",
       "    <tr>\n",
       "      <th>4</th>\n",
       "      <td>성과 중심의 분위기로 인한 개인주의가 만연하여 일하는 것이 즐겁지 않습니다</td>\n",
       "      <td>사내문화</td>\n",
       "      <td>분위기</td>\n",
       "      <td>negative</td>\n",
       "      <td>negative</td>\n",
       "      <td>True</td>\n",
       "    </tr>\n",
       "    <tr>\n",
       "      <th>5</th>\n",
       "      <td>워라밸 기대하기 힘듬</td>\n",
       "      <td>업무</td>\n",
       "      <td>듬</td>\n",
       "      <td>negative</td>\n",
       "      <td>negative</td>\n",
       "      <td>True</td>\n",
       "    </tr>\n",
       "    <tr>\n",
       "      <th>6</th>\n",
       "      <td>일 많고 새로운 도전도 많아서 이 회사 다니면서 편할 생각은 하지 않는게 좋음</td>\n",
       "      <td>업무</td>\n",
       "      <td>서</td>\n",
       "      <td>negative</td>\n",
       "      <td>negative</td>\n",
       "      <td>True</td>\n",
       "    </tr>\n",
       "    <tr>\n",
       "      <th>7</th>\n",
       "      <td>자유로운 회사 분위기 사내식당 똑똑한 동료들과의 협업</td>\n",
       "      <td>사내문화</td>\n",
       "      <td>분위기</td>\n",
       "      <td>positive</td>\n",
       "      <td>positive</td>\n",
       "      <td>True</td>\n",
       "    </tr>\n",
       "    <tr>\n",
       "      <th>8</th>\n",
       "      <td>업무를 잘하기위해서 자기개발이 많이 요구되어 워라밸 보장이 어렵다</td>\n",
       "      <td>업무</td>\n",
       "      <td>어렵다</td>\n",
       "      <td>negative</td>\n",
       "      <td>negative</td>\n",
       "      <td>True</td>\n",
       "    </tr>\n",
       "    <tr>\n",
       "      <th>9</th>\n",
       "      <td>개발자 대우가 좋다 쓸데 없는 프로세스에 시간을 쏟지 않게함</td>\n",
       "      <td>업무</td>\n",
       "      <td>좋다</td>\n",
       "      <td>positive</td>\n",
       "      <td>positive</td>\n",
       "      <td>True</td>\n",
       "    </tr>\n",
       "    <tr>\n",
       "      <th>10</th>\n",
       "      <td>복지는 나쁘지 않음 좀 편한 분위기인 듯 하고 쥬니어면 있을만 함</td>\n",
       "      <td>복지</td>\n",
       "      <td>복지</td>\n",
       "      <td>positive</td>\n",
       "      <td>positive</td>\n",
       "      <td>True</td>\n",
       "    </tr>\n",
       "    <tr>\n",
       "      <th>11</th>\n",
       "      <td>복지는 나쁘지 않음 좀 편한 분위기인 듯 하고 쥬니어면 있을만 함</td>\n",
       "      <td>사내문화</td>\n",
       "      <td>복지</td>\n",
       "      <td>positive</td>\n",
       "      <td>positive</td>\n",
       "      <td>True</td>\n",
       "    </tr>\n",
       "    <tr>\n",
       "      <th>12</th>\n",
       "      <td>휴가나 오프사용 눈치 안보고 재택도 자유로운편</td>\n",
       "      <td>사내문화</td>\n",
       "      <td>고</td>\n",
       "      <td>positive</td>\n",
       "      <td>positive</td>\n",
       "      <td>True</td>\n",
       "    </tr>\n",
       "    <tr>\n",
       "      <th>13</th>\n",
       "      <td>비개발은 개발이랑 급여나 성과 차이가 커서 불만족스러움</td>\n",
       "      <td>급여</td>\n",
       "      <td>개발</td>\n",
       "      <td>negative</td>\n",
       "      <td>negative</td>\n",
       "      <td>True</td>\n",
       "    </tr>\n",
       "    <tr>\n",
       "      <th>14</th>\n",
       "      <td>밝고 진취적인 분위기 서로 챙겨주면서도 일에 대한 퀄리티 양보 안할 수 있음</td>\n",
       "      <td>사내문화</td>\n",
       "      <td>분위기</td>\n",
       "      <td>positive</td>\n",
       "      <td>positive</td>\n",
       "      <td>True</td>\n",
       "    </tr>\n",
       "    <tr>\n",
       "      <th>15</th>\n",
       "      <td>자기하기 나름인 회사 눈치 안보고 이것저것 해볼수있다</td>\n",
       "      <td>사내문화</td>\n",
       "      <td>해</td>\n",
       "      <td>positive</td>\n",
       "      <td>positive</td>\n",
       "      <td>True</td>\n",
       "    </tr>\n",
       "    <tr>\n",
       "      <th>16</th>\n",
       "      <td>지극히 개인주의 분위기</td>\n",
       "      <td>사내문화</td>\n",
       "      <td>분위기</td>\n",
       "      <td>negative</td>\n",
       "      <td>negative</td>\n",
       "      <td>True</td>\n",
       "    </tr>\n",
       "    <tr>\n",
       "      <th>17</th>\n",
       "      <td>솔직히 힘든거 없었음 거의 야근도 없고 일정도 개발에서 산정하면 대충 인정해 줌</td>\n",
       "      <td>업무</td>\n",
       "      <td>줌</td>\n",
       "      <td>negative</td>\n",
       "      <td>positive</td>\n",
       "      <td>False</td>\n",
       "    </tr>\n",
       "    <tr>\n",
       "      <th>18</th>\n",
       "      <td>냉장고에 음료수 많습니다 커피값 저렴해요</td>\n",
       "      <td>복지</td>\n",
       "      <td>요</td>\n",
       "      <td>positive</td>\n",
       "      <td>positive</td>\n",
       "      <td>True</td>\n",
       "    </tr>\n",
       "    <tr>\n",
       "      <th>19</th>\n",
       "      <td>경영진의 무능과 그들만의 세상</td>\n",
       "      <td>사내문화</td>\n",
       "      <td>무</td>\n",
       "      <td>negative</td>\n",
       "      <td>negative</td>\n",
       "      <td>True</td>\n",
       "    </tr>\n",
       "  </tbody>\n",
       "</table>\n",
       "</div>"
      ],
      "text/plain": [
       "                                             sentence aspect high_atts  \\\n",
       "0                          팀바팀이겠지만 기본적인 업무량이 많아 야근 필수     업무        많아   \n",
       "1   배울만한 동료가 많이 있었으나 최근 다수 이탈하긴함 처우가 괜찮은 편이며 조직에 따...   사내문화        문화   \n",
       "2   제조사보다 더한 탑다운 문화  엄청 쪼아대는데 모두가 따라가는 분위기 그렇지 않으면 아웃   사내문화        모두   \n",
       "3                        초봉이 높기 때문에 주니어 연봉이 타 회사대비 높음     급여         높   \n",
       "4           성과 중심의 분위기로 인한 개인주의가 만연하여 일하는 것이 즐겁지 않습니다   사내문화       분위기   \n",
       "5                                         워라밸 기대하기 힘듬     업무         듬   \n",
       "6         일 많고 새로운 도전도 많아서 이 회사 다니면서 편할 생각은 하지 않는게 좋음     업무         서   \n",
       "7                       자유로운 회사 분위기 사내식당 똑똑한 동료들과의 협업   사내문화       분위기   \n",
       "8                업무를 잘하기위해서 자기개발이 많이 요구되어 워라밸 보장이 어렵다     업무       어렵다   \n",
       "9                   개발자 대우가 좋다 쓸데 없는 프로세스에 시간을 쏟지 않게함     업무        좋다   \n",
       "10               복지는 나쁘지 않음 좀 편한 분위기인 듯 하고 쥬니어면 있을만 함     복지        복지   \n",
       "11               복지는 나쁘지 않음 좀 편한 분위기인 듯 하고 쥬니어면 있을만 함   사내문화        복지   \n",
       "12                          휴가나 오프사용 눈치 안보고 재택도 자유로운편   사내문화         고   \n",
       "13                     비개발은 개발이랑 급여나 성과 차이가 커서 불만족스러움     급여        개발   \n",
       "14         밝고 진취적인 분위기 서로 챙겨주면서도 일에 대한 퀄리티 양보 안할 수 있음   사내문화       분위기   \n",
       "15                      자기하기 나름인 회사 눈치 안보고 이것저것 해볼수있다   사내문화         해   \n",
       "16                                       지극히 개인주의 분위기   사내문화       분위기   \n",
       "17       솔직히 힘든거 없었음 거의 야근도 없고 일정도 개발에서 산정하면 대충 인정해 줌     업무         줌   \n",
       "18                             냉장고에 음료수 많습니다 커피값 저렴해요     복지         요   \n",
       "19                                   경영진의 무능과 그들만의 세상   사내문화         무   \n",
       "\n",
       "       truth   predict  correct  \n",
       "0   negative  negative     True  \n",
       "1   positive  positive     True  \n",
       "2   negative  negative     True  \n",
       "3   positive  positive     True  \n",
       "4   negative  negative     True  \n",
       "5   negative  negative     True  \n",
       "6   negative  negative     True  \n",
       "7   positive  positive     True  \n",
       "8   negative  negative     True  \n",
       "9   positive  positive     True  \n",
       "10  positive  positive     True  \n",
       "11  positive  positive     True  \n",
       "12  positive  positive     True  \n",
       "13  negative  negative     True  \n",
       "14  positive  positive     True  \n",
       "15  positive  positive     True  \n",
       "16  negative  negative     True  \n",
       "17  negative  positive    False  \n",
       "18  positive  positive     True  \n",
       "19  negative  negative     True  "
      ]
     },
     "execution_count": 12,
     "metadata": {},
     "output_type": "execute_result"
    }
   ],
   "source": [
    "map_result = {0: 'negative', 1: 'positive', 2: 'neutral'}\n",
    "predict = [map_result[i] for i in predicted]\n",
    "truth = [map_result[i] for i in labels]\n",
    "\n",
    "result_dict = {'sentence': df_samples['sentence'], 'aspect': df_samples['category'],\n",
    "              'high_atts': words, 'truth': truth, 'predict': predict, 'correct': correct}\n",
    "\n",
    "df = pd.DataFrame(result_dict)\n",
    "df"
   ]
  },
  {
   "cell_type": "markdown",
   "metadata": {},
   "source": [
    "#### Samples"
   ]
  },
  {
   "cell_type": "code",
   "execution_count": 13,
   "metadata": {},
   "outputs": [],
   "source": [
    "def check_att(result_df, idx):\n",
    "    print('Sentence: ', result_df.iloc[idx].sentence)\n",
    "    print('Aspect: ', result_df.iloc[idx].aspect)\n",
    "    print('High_att_words: ', result_df.iloc[idx].high_atts)\n",
    "    print('Predicted: {} | Truth: {}'.format(result_df.iloc[idx].predict, result_df.iloc[idx].truth))"
   ]
  },
  {
   "cell_type": "code",
   "execution_count": 14,
   "metadata": {},
   "outputs": [
    {
     "name": "stdout",
     "output_type": "stream",
     "text": [
      "Sentence:  지극히 개인주의 분위기\n",
      "Aspect:  사내문화\n",
      "High_att_words:  분위기\n",
      "Predicted: negative | Truth: negative\n"
     ]
    }
   ],
   "source": [
    "check_att(df, 16)"
   ]
  },
  {
   "cell_type": "code",
   "execution_count": 15,
   "metadata": {},
   "outputs": [
    {
     "name": "stdout",
     "output_type": "stream",
     "text": [
      "Sentence:  경영진의 무능과 그들만의 세상\n",
      "Aspect:  사내문화\n",
      "High_att_words:  무\n",
      "Predicted: negative | Truth: negative\n"
     ]
    }
   ],
   "source": [
    "check_att(df, 19)"
   ]
  },
  {
   "cell_type": "code",
   "execution_count": 16,
   "metadata": {},
   "outputs": [
    {
     "name": "stdout",
     "output_type": "stream",
     "text": [
      "Sentence:  제조사보다 더한 탑다운 문화  엄청 쪼아대는데 모두가 따라가는 분위기 그렇지 않으면 아웃\n",
      "Aspect:  사내문화\n",
      "High_att_words:  모두\n",
      "Predicted: negative | Truth: negative\n"
     ]
    }
   ],
   "source": [
    "check_att(df, 2)"
   ]
  },
  {
   "cell_type": "code",
   "execution_count": 17,
   "metadata": {},
   "outputs": [
    {
     "name": "stdout",
     "output_type": "stream",
     "text": [
      "Sentence:  초봉이 높기 때문에 주니어 연봉이 타 회사대비 높음\n",
      "Aspect:  급여\n",
      "High_att_words:  높\n",
      "Predicted: positive | Truth: positive\n"
     ]
    }
   ],
   "source": [
    "check_att(df, 3)"
   ]
  }
 ],
 "metadata": {
  "kernelspec": {
   "display_name": "Python 3",
   "language": "python",
   "name": "python3"
  },
  "language_info": {
   "codemirror_mode": {
    "name": "ipython",
    "version": 3
   },
   "file_extension": ".py",
   "mimetype": "text/x-python",
   "name": "python",
   "nbconvert_exporter": "python",
   "pygments_lexer": "ipython3",
   "version": "3.7.11"
  }
 },
 "nbformat": 4,
 "nbformat_minor": 4
}
